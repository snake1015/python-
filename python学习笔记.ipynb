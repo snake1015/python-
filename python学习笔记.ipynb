{
 "cells": [
  {
   "cell_type": "code",
   "execution_count": 6,
   "metadata": {},
   "outputs": [
    {
     "name": "stdout",
     "output_type": "stream",
     "text": [
      "[1, 3, 5, 4, 2, 3, 4, 5]\n",
      "[1, 2, 3, 4, 5]\n"
     ]
    }
   ],
   "source": [
    "#列表list 去重，使用方法set()\n",
    "numbers = [1,3,5,4,2,3,4,5]\n",
    "new_numbers = list(set(numbers))\n",
    "print(numbers)\n",
    "print(new_numbers)"
   ]
  },
  {
   "cell_type": "code",
   "execution_count": 11,
   "metadata": {},
   "outputs": [
    {
     "name": "stdout",
     "output_type": "stream",
     "text": [
      "extract the file successful\n"
     ]
    }
   ],
   "source": [
    "#文件压缩库：zipfile\n",
    "#文件解压 extractfile()\n",
    "\n",
    "import zipfile\n",
    "import os\n",
    "\n",
    "def extractfile(path):\n",
    "    #先判断是否为ZIP文件\n",
    "    if zipfile.is_zipfile(path):\n",
    "        zfile = zipfile.ZipFile(path,'r')\n",
    "        #获取zip文件中的目录信息：zipfile.infolist()\n",
    "        for i in zfile.infolist():\n",
    "            zfile.extract(i,os.path.dirname(path))\n",
    "            print('extract the file successful')\n",
    "        \n",
    "if __name__ == '__main__':\n",
    "    path = 'D:\\Python\\cfglog\\TServer_ZD_PRI.20170919_082531_479.log.zip'\n",
    "    extractfile(path)\n",
    "\n"
   ]
  },
  {
   "cell_type": "code",
   "execution_count": null,
   "metadata": {},
   "outputs": [
    {
     "name": "stdout",
     "output_type": "stream",
     "text": [
      "pls input the lenth of one side: 10\n"
     ]
    }
   ],
   "source": [
    "'''\n",
    "    图形绘制库：turtle\n",
    "    简单绘制五角星\n",
    "    forward(var)向前画出var长度的线条\n",
    "    backward(var)向后画出var长度的线条\n",
    "    \n",
    "'''\n",
    "\n",
    "import turtle\n",
    "\n",
    "def draw_pentagram(lenth):\n",
    "    for count in range(5):\n",
    "        turtle.forward(50)\n",
    "        turtle.right(144)\n",
    "    turtle.exitonclick()\n",
    "\n",
    "if __name__ == '__main__':\n",
    "    lenth = input('pls input the lenth of one side: ')\n",
    "    draw_pentagram(lenth)\n",
    "    "
   ]
  },
  {
   "cell_type": "code",
   "execution_count": null,
   "metadata": {},
   "outputs": [],
   "source": []
  }
 ],
 "metadata": {
  "kernelspec": {
   "display_name": "Python 3",
   "language": "python",
   "name": "python3"
  },
  "language_info": {
   "codemirror_mode": {
    "name": "ipython",
    "version": 3
   },
   "file_extension": ".py",
   "mimetype": "text/x-python",
   "name": "python",
   "nbconvert_exporter": "python",
   "pygments_lexer": "ipython3",
   "version": "3.6.2"
  }
 },
 "nbformat": 4,
 "nbformat_minor": 2
}
